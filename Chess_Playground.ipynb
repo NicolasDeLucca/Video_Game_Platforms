{
  "nbformat": 4,
  "nbformat_minor": 0,
  "metadata": {
    "colab": {
      "provenance": []
    },
    "kernelspec": {
      "name": "python3",
      "display_name": "Python 3"
    },
    "language_info": {
      "name": "python"
    }
  },
  "cells": [
    {
      "cell_type": "code",
      "execution_count": null,
      "metadata": {
        "id": "CB8gJ68bz0Pt"
      },
      "outputs": [],
      "source": [
        "# subir archivo chess_platform.py\n",
        "\n",
        "from chess_platform.py import Gameplay\n",
        ""
      ]
    },
    {
      "cell_type": "code",
      "source": [
        "# ejecucion\n",
        "\n",
        "if __name__ == \"__main__\"\n",
        "    new_gameplay = Gameplay()\n",
        "    new_gameplay.play()\n",
        ""
      ],
      "metadata": {
        "id": "aw39mQjq02m9"
      },
      "execution_count": null,
      "outputs": []
    }
  ]
}